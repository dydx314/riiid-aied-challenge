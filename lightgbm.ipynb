{
 "cells": [
  {
   "cell_type": "code",
   "execution_count": 1,
   "metadata": {},
   "outputs": [],
   "source": [
    "import datatable as dt\n",
    "import pandas as pd\n",
    "import warnings\n",
    "import numpy as np\n",
    "from lightgbm import LGBMClassifier, plot_importance\n",
    "from sklearn.compose import ColumnTransformer\n",
    "from sklearn.pipeline import Pipeline\n",
    "from sklearn.impute import SimpleImputer\n",
    "from sklearn.preprocessing import StandardScaler, OneHotEncoder\n",
    "from sklearn.linear_model import LogisticRegression\n",
    "from sklearn.model_selection import train_test_split\n",
    "from sklearn.metrics import roc_auc_score, accuracy_score, precision_score, recall_score, f1_score\n",
    "from skopt.space import Real, Integer\n",
    "from skopt.utils import use_named_args\n",
    "from skopt import gp_minimize\n",
    "warnings.filterwarnings('ignore')"
   ]
  },
  {
   "cell_type": "code",
   "execution_count": 1,
   "metadata": {},
   "outputs": [
    {
     "data": {
      "text/html": [
       "<style type='text/css'>\n",
       ".datatable table.frame { margin-bottom: 0; }\n",
       ".datatable table.frame thead { border-bottom: none; }\n",
       ".datatable table.frame tr.coltypes td {  color: #FFFFFF;  line-height: 6px;  padding: 0 0.5em;}\n",
       ".datatable .bool    { background: #DDDD99; }\n",
       ".datatable .object  { background: #565656; }\n",
       ".datatable .int     { background: #5D9E5D; }\n",
       ".datatable .float   { background: #4040CC; }\n",
       ".datatable .str     { background: #CC4040; }\n",
       ".datatable .row_index {  background: var(--jp-border-color3);  border-right: 1px solid var(--jp-border-color0);  color: var(--jp-ui-font-color3);  font-size: 9px;}\n",
       ".datatable .frame tr.coltypes .row_index {  background: var(--jp-border-color0);}\n",
       ".datatable th:nth-child(2) { padding-left: 12px; }\n",
       ".datatable .hellipsis {  color: var(--jp-cell-editor-border-color);}\n",
       ".datatable .vellipsis {  background: var(--jp-layout-color0);  color: var(--jp-cell-editor-border-color);}\n",
       ".datatable .na {  color: var(--jp-cell-editor-border-color);  font-size: 80%;}\n",
       ".datatable .footer { font-size: 9px; }\n",
       ".datatable .frame_dimensions {  background: var(--jp-border-color3);  border-top: 1px solid var(--jp-border-color0);  color: var(--jp-ui-font-color3);  display: inline-block;  opacity: 0.6;  padding: 1px 10px 1px 5px;}\n",
       "</style>\n"
      ],
      "text/plain": [
       "<IPython.core.display.HTML object>"
      ]
     },
     "metadata": {},
     "output_type": "display_data"
    }
   ],
   "source": [
    "# Load and Preprocess Data\n",
    "DATA_PATH = '../riiid-test-answer-prediction'\n",
    "data = dt.fread(f\"{DATA_PATH}/train.csv\")\n",
    "data = data.to_pandas()\n",
    "\n",
    "target = 'answered_correctly'\n",
    "columns = ['user_id', 'content_id', 'prior_question_elapsed_time', 'prior_question_had_explanation']\n",
    "data = data.loc[data['content_type_id']==False, columns+[target]]\n",
    "\n",
    "user = data.groupby('user_id')['answered_correctly'].agg(['sum', 'count'])\n",
    "user['user_percent_correct'] = user['sum'] / user['count']\n",
    "user.drop(columns=['sum'], inplace=True)\n",
    "\n",
    "question = data.groupby('content_id')['answered_correctly'].agg(['sum', 'count'])\n",
    "question['question_percent_correct'] = question['sum'] / question['count']\n",
    "question.drop(columns=['sum', 'count'], inplace=True)\n",
    "\n",
    "data = data.join(user, on='user_id')\n",
    "data = data.join(question, on='content_id')\n",
    "data.reset_index(drop=True, inplace=True)\n",
    "data['prior_question_had_explanation'] = data['prior_question_had_explanation'].fillna(False).astype(np.int8)"
   ]
  },
  {
   "cell_type": "code",
   "execution_count": 2,
   "metadata": {},
   "outputs": [],
   "source": [
    "# Create Pipelines\n",
    "numeric_features = ['prior_question_elapsed_time', 'count', 'user_percent_correct', 'question_percent_correct']\n",
    "numeric_transformer = Pipeline(steps=[\n",
    "    ('imputer', SimpleImputer(strategy='mean')),\n",
    "    ('scaler', StandardScaler())])\n",
    "\n",
    "categorical_features = ['prior_question_had_explanation']\n",
    "categorical_transformer = Pipeline(steps=[\n",
    "    ('onehot', OneHotEncoder(handle_unknown='ignore'))])\n",
    "\n",
    "preprocessor = ColumnTransformer(\n",
    "    transformers=[\n",
    "        ('num', numeric_transformer, numeric_features),\n",
    "        ('cat', categorical_transformer, categorical_features)])\n",
    "\n",
    "lr = Pipeline(steps=[('preprocessor', preprocessor),\n",
    "                      ('classifier', LogisticRegression())])\n",
    "\n",
    "lgbm = Pipeline(steps=[('preprocessor', preprocessor),\n",
    "                      ('classifier', LGBMClassifier())])\n",
    "\n",
    "X_train, X_test, y_train, y_test = train_test_split(data[numeric_features+categorical_features], \n",
    "                                                    data['answered_correctly'],\n",
    "                                                    random_state=2020,\n",
    "                                                    test_size=0.1\n",
    "                                                   )\n",
    "\n",
    "X_train, X_val, y_train, y_val = train_test_split(X_train, \n",
    "                                                  y_train,\n",
    "                                                  random_state=2020,\n",
    "                                                  test_size=0.222\n",
    "                                                  )"
   ]
  },
  {
   "cell_type": "code",
   "execution_count": 3,
   "metadata": {},
   "outputs": [
    {
     "name": "stdout",
     "output_type": "stream",
     "text": [
      "0.6425432711621684\n"
     ]
    }
   ],
   "source": [
    "# Baseline Model\n",
    "lr.fit(X_train, y_train)\n",
    "y_pred = lr.predict(X_val)\n",
    "print(roc_auc_score(y_val, y_pred))"
   ]
  },
  {
   "cell_type": "code",
   "execution_count": 5,
   "metadata": {},
   "outputs": [
    {
     "name": "stdout",
     "output_type": "stream",
     "text": [
      "0.7568151393278345\n"
     ]
    }
   ],
   "source": [
    "# LightGBM Model\n",
    "lgbm.fit(X_train, y_train)\n",
    "y_pred = lgbm.predict(X_val)\n",
    "print(roc_auc_score(y_val, y_pred))"
   ]
  },
  {
   "cell_type": "code",
   "execution_count": 12,
   "metadata": {},
   "outputs": [
    {
     "data": {
      "text/plain": [
       "<AxesSubplot:title={'center':'Feature importance'}, xlabel='Feature importance', ylabel='Features'>"
      ]
     },
     "execution_count": 12,
     "metadata": {},
     "output_type": "execute_result"
    },
    {
     "data": {
      "image/png": "[encoded data removed]",
      "text/plain": [
       "<Figure size 432x288 with 1 Axes>"
      ]
     },
     "metadata": {
      "needs_background": "light"
     },
     "output_type": "display_data"
    }
   ],
   "source": [
    "# Feature Importances\n",
    "plot_importance(lgbm['classifierobtain'])"
   ]
  },
  {
   "cell_type": "code",
   "execution_count": 20,
   "metadata": {},
   "outputs": [],
   "source": [
    "# LightGBM Parameters Tuning\n",
    "space = [Real(0.01, 0.5, name='learning_rate', prior='log-uniform'),\n",
    "         Integer(1, 30, name='max_depth'),\n",
    "         Integer(10, 200, name='num_leaves'),\n",
    "         Real(0.1, 1.0, name='feature_fraction', prior='uniform'),\n",
    "         Real(0.1, 1.0, name='subsample', prior='uniform')\n",
    "        ]\n",
    "\n",
    "@use_named_args(space)\n",
    "def objective(**params):\n",
    "    lgbm['classifier'].set_params(**params)\n",
    "    lgbm.fit(X_train, y_train)\n",
    "    y_pred = lgbm.predict(X_val)\n",
    "    return -roc_auc_score(y_val, y_pred)\n",
    "\n",
    "res_gp = gp_minimize(objective, space, n_calls=10, random_state=2020)"
   ]
  },
  {
   "cell_type": "code",
   "execution_count": 38,
   "metadata": {},
   "outputs": [
    {
     "name": "stdout",
     "output_type": "stream",
     "text": [
      "Best ROC-AUC = 0.7577\n",
      "Optimized Parameters : {'learning_rate': 0.1661864399323458, 'max_depth': 22, 'num_leaves': 163, 'feature_fraction': 0.51938482949499, 'subsample': 0.4015477149296921}\n"
     ]
    }
   ],
   "source": [
    "print(\"Best ROC-AUC = %.4f\" % -res_gp.fun)\n",
    "opt_params = {i.name:j for i, j in zip(space, res_gp.x)}\n",
    "print(\"Optimized Parameters :\", opt_params)"
   ]
  },
  {
   "cell_type": "code",
   "execution_count": 40,
   "metadata": {},
   "outputs": [
    {
     "name": "stdout",
     "output_type": "stream",
     "text": [
      "0.7579631854648538\n"
     ]
    }
   ],
   "source": [
    "# Optimized LightGBM Performance\n",
    "# ROC-AUC\n",
    "lgbm['classifier'].set_params(**opt_params)\n",
    "lgbm.fit(X_train, y_train)\n",
    "y_pred = lgbm.predict(X_test)\n",
    "print(roc_auc_score(y_test, y_pred))"
   ]
  },
  {
   "cell_type": "code",
   "execution_count": 41,
   "metadata": {},
   "outputs": [
    {
     "name": "stdout",
     "output_type": "stream",
     "text": [
      "0.7222391567351288\n"
     ]
    }
   ],
   "source": [
    "# Accuracy\n",
    "print(accuracy_score(y_test, y_pred))"
   ]
  },
  {
   "cell_type": "code",
   "execution_count": 42,
   "metadata": {},
   "outputs": [
    {
     "name": "stdout",
     "output_type": "stream",
     "text": [
      "0.7452086750994887\n"
     ]
    }
   ],
   "source": [
    "# Precision\n",
    "print(precision_score(y_test, y_pred))"
   ]
  },
  {
   "cell_type": "code",
   "execution_count": 43,
   "metadata": {},
   "outputs": [
    {
     "name": "stdout",
     "output_type": "stream",
     "text": [
      "0.877199706388983\n"
     ]
    }
   ],
   "source": [
    "# Recall\n",
    "print(recall_score(y_test, y_pred))"
   ]
  },
  {
   "cell_type": "code",
   "execution_count": 44,
   "metadata": {},
   "outputs": [
    {
     "name": "stdout",
     "output_type": "stream",
     "text": [
      "0.8058351256741698\n"
     ]
    }
   ],
   "source": [
    "# F1-Score\n",
    "print(f1_score(y_test, y_pred))"
   ]
  }
 ],
 "metadata": {
  "kernelspec": {
   "display_name": "Python 3",
   "language": "python",
   "name": "python3"
  },
  "language_info": {
   "codemirror_mode": {
    "name": "ipython",
    "version": 3
   },
   "file_extension": ".py",
   "mimetype": "text/x-python",
   "name": "python",
   "nbconvert_exporter": "python",
   "pygments_lexer": "ipython3",
   "version": "3.8.3"
  }
 },
 "nbformat": 4,
 "nbformat_minor": 4
}
